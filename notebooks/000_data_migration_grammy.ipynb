{
 "cells": [
  {
   "cell_type": "markdown",
   "metadata": {},
   "source": [
    "# Data Migration from CSV to PostgreSQL\n",
    "\n",
    "In this notebook, we will perform a data migration from a CSV file to a PostgreSQL database. This process involves several key steps:\n",
    "\n",
    "## Steps to Follow\n",
    "\n",
    "1. **Configure the Environment**\n",
    "2. **Import the Necessary Modules**\n",
    "3. **Connect to the Database**\n",
    "4. **Create an SQLAlchemy Session**\n",
    "5. **Create the Candidates Table in the Database**\n",
    "6. **Transform and Load the Data**\n",
    "\n",
    "### Prerequisites\n",
    "\n",
    "Ensure that your environment variables for database credentials are set up in a `.env` file. Additionally, install the required packages by running:\n",
    "\n",
    "```bash\n",
    "pip install -r requirements.txt"
   ]
  },
  {
   "cell_type": "markdown",
   "metadata": {},
   "source": [
    "---"
   ]
  },
  {
   "cell_type": "markdown",
   "metadata": {},
   "source": [
    "We will load the environment variables from the .env file, which contains important configurations such as paths and credentials. Then, we will obtain the working directory from these variables and add it to the system path to ensure that the project's modules can be imported correctly."
   ]
  },
  {
   "cell_type": "code",
   "execution_count": 3,
   "metadata": {},
   "outputs": [
    {
     "name": "stdout",
     "output_type": "stream",
     "text": [
      "Workdir:  /home/carol/workshop-02\n"
     ]
    }
   ],
   "source": [
    "import sys\n",
    "import os\n",
    "\n",
    "load_dotenv()\n",
    "work_dir = os.getenv('WORK_DIR')\n",
    "\n",
    "sys.path.append(work_dir)\n",
    "\n",
    "print('Workdir: ', work_dir)"
   ]
  },
  {
   "cell_type": "markdown",
   "metadata": {},
   "source": [
    "We import the necessary modules and classes for the rest of the notebook."
   ]
  },
  {
   "cell_type": "code",
   "execution_count": 10,
   "metadata": {},
   "outputs": [],
   "source": [
    "from dotenv import load_dotenv\n",
    "from db.db_connection import build_engine\n",
    "from sqlalchemy.orm import sessionmaker\n",
    "from sqlalchemy import inspect\n",
    "from models.model import GrammyAward\n",
    "from sqlalchemy.exc import SQLAlchemyError\n",
    "from src.transform.transform_grammy import TransformGrammy\n",
    "import pandas as pd"
   ]
  },
  {
   "cell_type": "markdown",
   "metadata": {},
   "source": [
    "The build_engine function is called to configure and create a connection to the PostgreSQL database."
   ]
  },
  {
   "cell_type": "code",
   "execution_count": 5,
   "metadata": {},
   "outputs": [
    {
     "name": "stdout",
     "output_type": "stream",
     "text": [
      "Successfully connected to the database workshop2!\n"
     ]
    }
   ],
   "source": [
    "engine = build_engine()"
   ]
  },
  {
   "cell_type": "markdown",
   "metadata": {},
   "source": [
    "A SQLAlchemy session is created using the database engine established in the previous step. Why? This session is necessary for performing read and write operations on the database."
   ]
  },
  {
   "cell_type": "code",
   "execution_count": 6,
   "metadata": {},
   "outputs": [],
   "source": [
    "Session = sessionmaker(bind=engine)\n",
    "session = Session()"
   ]
  },
  {
   "cell_type": "markdown",
   "metadata": {},
   "source": [
    "We check if the Grammy Awards table already exists in the database. If it does, the table is dropped. Then, a new Grammy Awards table is created. This ensures that the table is up-to-date and ready to receive new data. If any errors occur during this process, an error message is printed."
   ]
  },
  {
   "cell_type": "code",
   "execution_count": 7,
   "metadata": {},
   "outputs": [
    {
     "name": "stdout",
     "output_type": "stream",
     "text": [
      "Table creation was successful.\n"
     ]
    }
   ],
   "source": [
    "try:\n",
    "    inspector = inspect(engine)\n",
    "\n",
    "    if inspector.has_table('grammy_awards'):\n",
    "        try:\n",
    "            GrammyAward.__table__.drop(engine)\n",
    "        except SQLAlchemyError as e:\n",
    "            print(f\"Error dropping table: {e}\")\n",
    "            raise\n",
    "    try:\n",
    "        GrammyAward.__table__.create(engine)\n",
    "        print(\"Table creation was successful.\")\n",
    "    except SQLAlchemyError as e:\n",
    "        print(f\"Error creating table: {e}\")\n",
    "        raise\n",
    "\n",
    "except SQLAlchemyError as error:\n",
    "    print(f\"An error occurred: {error}\")"
   ]
  },
  {
   "cell_type": "markdown",
   "metadata": {},
   "source": [
    "An instance of the Transform class is created to read the file. Then, data transformations are applied, such as adding IDs. The transformed data is inserted into the Grammy awards table in the database. Finally, the database session is closed to free up resources."
   ]
  },
  {
   "cell_type": "code",
   "execution_count": 13,
   "metadata": {},
   "outputs": [
    {
     "name": "stdout",
     "output_type": "stream",
     "text": [
      "Data uploaded successfully\n"
     ]
    }
   ],
   "source": [
    "grammy_awards = pd.read_csv('../data/the_grammy_awards.csv', sep=',' , encoding='utf-8')\n",
    "\n",
    "try:\n",
    "    df = TransformGrammy(grammy_awards)\n",
    "    \n",
    "    df.insert_ids()\n",
    "    \n",
    "    df.df.to_sql('grammy_awards', engine, if_exists='append', index=False)\n",
    "    \n",
    "    print(\"Data uploaded successfully\")\n",
    "\n",
    "except Exception as e:\n",
    "    print(f\"An error occurred: {e}\")\n",
    "\n",
    "finally:\n",
    "    if session:\n",
    "        session.close()"
   ]
  }
 ],
 "metadata": {
  "kernelspec": {
   "display_name": "venv",
   "language": "python",
   "name": "python3"
  },
  "language_info": {
   "codemirror_mode": {
    "name": "ipython",
    "version": 3
   },
   "file_extension": ".py",
   "mimetype": "text/x-python",
   "name": "python",
   "nbconvert_exporter": "python",
   "pygments_lexer": "ipython3",
   "version": "3.12.3"
  }
 },
 "nbformat": 4,
 "nbformat_minor": 2
}
