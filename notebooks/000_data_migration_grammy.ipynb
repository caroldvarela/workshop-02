{
 "cells": [
  {
   "cell_type": "code",
   "execution_count": 1,
   "metadata": {},
   "outputs": [
    {
     "name": "stdout",
     "output_type": "stream",
     "text": [
      "Workdir:  /home/carol/etl/workshop-02\n"
     ]
    }
   ],
   "source": [
    "import sys\n",
    "import os\n",
    "from dotenv import load_dotenv\n",
    "\n",
    "load_dotenv()\n",
    "work_dir = os.getenv('WORK_DIR')\n",
    "\n",
    "sys.path.append(work_dir)\n",
    "\n",
    "print('Workdir: ', work_dir)"
   ]
  },
  {
   "cell_type": "code",
   "execution_count": 2,
   "metadata": {},
   "outputs": [],
   "source": [
    "from db.db_connection import build_engine\n",
    "from sqlalchemy.orm import sessionmaker\n",
    "from sqlalchemy import inspect\n",
    "from models.model import GrammyAward\n",
    "from sqlalchemy.exc import SQLAlchemyError\n",
    "from src.transform.transform_grammy import TransformGrammy"
   ]
  },
  {
   "cell_type": "code",
   "execution_count": 3,
   "metadata": {},
   "outputs": [
    {
     "name": "stdout",
     "output_type": "stream",
     "text": [
      "Successfully connected to the database workshop2!\n"
     ]
    }
   ],
   "source": [
    "engine = build_engine()"
   ]
  },
  {
   "cell_type": "code",
   "execution_count": 4,
   "metadata": {},
   "outputs": [],
   "source": [
    "Session = sessionmaker(bind=engine)\n",
    "session = Session()"
   ]
  },
  {
   "cell_type": "code",
   "execution_count": 5,
   "metadata": {},
   "outputs": [
    {
     "name": "stdout",
     "output_type": "stream",
     "text": [
      "Table creation was successful.\n"
     ]
    }
   ],
   "source": [
    "try:\n",
    "    inspector = inspect(engine)\n",
    "\n",
    "    if inspector.has_table('grammy_awards'):\n",
    "        try:\n",
    "            GrammyAward.__table__.drop(engine)\n",
    "        except SQLAlchemyError as e:\n",
    "            print(f\"Error dropping table: {e}\")\n",
    "            raise\n",
    "    try:\n",
    "        GrammyAward.__table__.create(engine)\n",
    "        print(\"Table creation was successful.\")\n",
    "    except SQLAlchemyError as e:\n",
    "        print(f\"Error creating table: {e}\")\n",
    "        raise\n",
    "\n",
    "except SQLAlchemyError as error:\n",
    "    print(f\"An error occurred: {error}\")"
   ]
  },
  {
   "cell_type": "code",
   "execution_count": 6,
   "metadata": {},
   "outputs": [
    {
     "name": "stdout",
     "output_type": "stream",
     "text": [
      "Data uploaded successfully\n"
     ]
    }
   ],
   "source": [
    "try:\n",
    "    df = TransformGrammy('../data/the_grammy_awards.csv')\n",
    "    \n",
    "    df.insert_ids()\n",
    "    \n",
    "    df.df.to_sql('grammy_awards', engine, if_exists='append', index=False)\n",
    "    \n",
    "    print(\"Data uploaded successfully\")\n",
    "\n",
    "except Exception as e:\n",
    "    print(f\"An error occurred: {e}\")\n",
    "\n",
    "finally:\n",
    "    if session:\n",
    "        session.close()"
   ]
  }
 ],
 "metadata": {
  "kernelspec": {
   "display_name": "venv",
   "language": "python",
   "name": "python3"
  },
  "language_info": {
   "codemirror_mode": {
    "name": "ipython",
    "version": 3
   },
   "file_extension": ".py",
   "mimetype": "text/x-python",
   "name": "python",
   "nbconvert_exporter": "python",
   "pygments_lexer": "ipython3",
   "version": "3.12.3"
  }
 },
 "nbformat": 4,
 "nbformat_minor": 2
}
